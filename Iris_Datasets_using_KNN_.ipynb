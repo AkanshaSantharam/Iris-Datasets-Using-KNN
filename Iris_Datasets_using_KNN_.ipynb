{
  "nbformat": 4,
  "nbformat_minor": 0,
  "metadata": {
    "colab": {
      "name": "Iris Datasets using KNN .ipynb",
      "provenance": [],
      "authorship_tag": "ABX9TyNwGG7ZEN/L7j9YybWQe7e8",
      "include_colab_link": true
    },
    "kernelspec": {
      "name": "python3",
      "display_name": "Python 3"
    }
  },
  "cells": [
    {
      "cell_type": "markdown",
      "metadata": {
        "id": "view-in-github",
        "colab_type": "text"
      },
      "source": [
        "<a href=\"https://colab.research.google.com/github/AkanshaSantharam/Iris-Datasets-Using-KNN/blob/master/Iris_Datasets_using_KNN_.ipynb\" target=\"_parent\"><img src=\"https://colab.research.google.com/assets/colab-badge.svg\" alt=\"Open In Colab\"/></a>"
      ]
    },
    {
      "cell_type": "markdown",
      "metadata": {
        "id": "1-KpJQTflLVZ"
      },
      "source": [
        "**IRIS DATASETS USING KNN**"
      ]
    },
    {
      "cell_type": "markdown",
      "metadata": {
        "id": "a3XSrNuCsW6M"
      },
      "source": [
        "# Importing Libraries:"
      ]
    },
    {
      "cell_type": "code",
      "metadata": {
        "id": "2H3mrKmvrxix"
      },
      "source": [
        "import pandas as pd\r\n",
        "import numpy as np"
      ],
      "execution_count": null,
      "outputs": []
    },
    {
      "cell_type": "markdown",
      "metadata": {
        "id": "CVLKTmkEsJrn"
      },
      "source": [
        "## Exploring the Data:\r\n",
        "the data we will use is the Iris dataset. It is included in sckit-learn in the dataset module:"
      ]
    },
    {
      "cell_type": "code",
      "metadata": {
        "id": "3ero5AqYsQFJ"
      },
      "source": [
        "from sklearn.datasets import load_iris\r\n",
        "iris_dataset=load_iris()"
      ],
      "execution_count": null,
      "outputs": []
    },
    {
      "cell_type": "markdown",
      "metadata": {
        "id": "uPLHkEj-Z0nF"
      },
      "source": [
        "The iris object that is returned by load_iris contains key values:"
      ]
    },
    {
      "cell_type": "code",
      "metadata": {
        "colab": {
          "base_uri": "https://localhost:8080/"
        },
        "id": "YGdZdmwYtHEa",
        "outputId": "883ab7c3-0056-46c1-e891-49d7a91c3cb2"
      },
      "source": [
        "print('Keys of iris_datsets: \\n{}'.format(iris_dataset.keys()))"
      ],
      "execution_count": null,
      "outputs": [
        {
          "output_type": "stream",
          "text": [
            "Keys of iris_datsets: \n",
            "dict_keys(['data', 'target', 'target_names', 'DESCR', 'feature_names', 'filename'])\n"
          ],
          "name": "stdout"
        }
      ]
    },
    {
      "cell_type": "markdown",
      "metadata": {
        "id": "1TfUJFm6aFU1"
      },
      "source": [
        "The value of the key DESCR is a short description of the dataset:"
      ]
    },
    {
      "cell_type": "code",
      "metadata": {
        "colab": {
          "base_uri": "https://localhost:8080/"
        },
        "id": "GaagthWqveth",
        "outputId": "ed0ccb89-474b-4765-d6f5-1b36000eadc7"
      },
      "source": [
        "print(iris_dataset['DESCR'][:200] + \"\\n...\")"
      ],
      "execution_count": null,
      "outputs": [
        {
          "output_type": "stream",
          "text": [
            ".. _iris_dataset:\n",
            "\n",
            "Iris plants dataset\n",
            "--------------------\n",
            "\n",
            "**Data Set Characteristics:**\n",
            "\n",
            "    :Number of Instances: 150 (50 in each of three classes)\n",
            "    :Number of Attributes: 4 numeric, predictive\n",
            "...\n"
          ],
          "name": "stdout"
        }
      ]
    },
    {
      "cell_type": "markdown",
      "metadata": {
        "id": "-GPkK6c3azyx"
      },
      "source": [
        "The target names of the iris datasets:\r\n",
        "\r\n",
        "\r\n"
      ]
    },
    {
      "cell_type": "code",
      "metadata": {
        "colab": {
          "base_uri": "https://localhost:8080/"
        },
        "id": "29rd4tPcweok",
        "outputId": "b151e614-ec46-45c7-c0b9-43ea178bc7e1"
      },
      "source": [
        "print('Target names:{}'.format(iris_dataset['target_names']))"
      ],
      "execution_count": null,
      "outputs": [
        {
          "output_type": "stream",
          "text": [
            "Target names:['setosa' 'versicolor' 'virginica']\n"
          ],
          "name": "stdout"
        }
      ]
    },
    {
      "cell_type": "markdown",
      "metadata": {
        "id": "TsHLK5q2a-uy"
      },
      "source": [
        "The feature names are:"
      ]
    },
    {
      "cell_type": "code",
      "metadata": {
        "colab": {
          "base_uri": "https://localhost:8080/"
        },
        "id": "mabnS4NMxPXh",
        "outputId": "9c8da25f-04e0-4b67-e9a3-2301afa6ba98"
      },
      "source": [
        "print('Feature names: \\n{}'.format(iris_dataset['feature_names']))"
      ],
      "execution_count": null,
      "outputs": [
        {
          "output_type": "stream",
          "text": [
            "Feature names: \n",
            "['sepal length (cm)', 'sepal width (cm)', 'petal length (cm)', 'petal width (cm)']\n"
          ],
          "name": "stdout"
        }
      ]
    },
    {
      "cell_type": "markdown",
      "metadata": {
        "id": "zA20DfjRbRav"
      },
      "source": [
        "The data contains numeric measurements of sepal length, sepal width, petal length and petal width:"
      ]
    },
    {
      "cell_type": "code",
      "metadata": {
        "colab": {
          "base_uri": "https://localhost:8080/"
        },
        "id": "FXAK-3QPx2k9",
        "outputId": "31bf6b05-0354-4a7e-f6e0-f5042935a25c"
      },
      "source": [
        "print('Type of data: {}'.format(type(iris_dataset['data'])))"
      ],
      "execution_count": null,
      "outputs": [
        {
          "output_type": "stream",
          "text": [
            "Type of data: <class 'numpy.ndarray'>\n"
          ],
          "name": "stdout"
        }
      ]
    },
    {
      "cell_type": "markdown",
      "metadata": {
        "id": "75UnSgBgckZj"
      },
      "source": [
        "The rows represent the data array correspond to flowers, while the columns represent the four measurements that were for each flower:"
      ]
    },
    {
      "cell_type": "code",
      "metadata": {
        "colab": {
          "base_uri": "https://localhost:8080/"
        },
        "id": "I6Ax9Ac4yLcu",
        "outputId": "c8b25fc8-ef1a-4fd8-ac37-edbcdfce1ace"
      },
      "source": [
        "print('Shape of data: {}'.format(iris_dataset['data'].shape))"
      ],
      "execution_count": null,
      "outputs": [
        {
          "output_type": "stream",
          "text": [
            "Shape of data: (150, 4)\n"
          ],
          "name": "stdout"
        }
      ]
    },
    {
      "cell_type": "markdown",
      "metadata": {
        "id": "QK_OW7-edXR0"
      },
      "source": [
        "We see that there are 150 flowers. We have 150 data points and 4 features:"
      ]
    },
    {
      "cell_type": "code",
      "metadata": {
        "colab": {
          "base_uri": "https://localhost:8080/"
        },
        "id": "x9pk2NQJyjF7",
        "outputId": "58068cff-0aa6-47b9-a450-faaa762cf4a1"
      },
      "source": [
        "print('First five rows of data:\\n{}'.format(iris_dataset['data'][:5]))"
      ],
      "execution_count": null,
      "outputs": [
        {
          "output_type": "stream",
          "text": [
            "First five rows of data:\n",
            "[[5.1 3.5 1.4 0.2]\n",
            " [4.9 3.  1.4 0.2]\n",
            " [4.7 3.2 1.3 0.2]\n",
            " [4.6 3.1 1.5 0.2]\n",
            " [5.  3.6 1.4 0.2]]\n"
          ],
          "name": "stdout"
        }
      ]
    },
    {
      "cell_type": "code",
      "metadata": {
        "colab": {
          "base_uri": "https://localhost:8080/"
        },
        "id": "jBiqMMnFzF5R",
        "outputId": "ef50c098-66a1-4033-92e0-76e4280461b5"
      },
      "source": [
        "print('Types of data: {}'.format(type(iris_dataset['target'])))"
      ],
      "execution_count": null,
      "outputs": [
        {
          "output_type": "stream",
          "text": [
            "Types of data: <class 'numpy.ndarray'>\n"
          ],
          "name": "stdout"
        }
      ]
    },
    {
      "cell_type": "markdown",
      "metadata": {
        "id": "hZCO7dX3d8jD"
      },
      "source": [
        "Target is a one-dimensional array, and on seeing the shape we can see that it contains one entry per flower:"
      ]
    },
    {
      "cell_type": "code",
      "metadata": {
        "colab": {
          "base_uri": "https://localhost:8080/"
        },
        "id": "U_EfJfml0PqD",
        "outputId": "002c9e40-3a6b-46c3-da85-b0db2dcdb353"
      },
      "source": [
        "print('Shape of target: {}'.format(iris_dataset['target'].shape))"
      ],
      "execution_count": null,
      "outputs": [
        {
          "output_type": "stream",
          "text": [
            "Shape of target: (150,)\n"
          ],
          "name": "stdout"
        }
      ]
    },
    {
      "cell_type": "markdown",
      "metadata": {
        "id": "H6SwH92feilO"
      },
      "source": [
        "On seeing the target key and exploring the values we can easily see that the species are encoded as integers from 0,1,2:"
      ]
    },
    {
      "cell_type": "code",
      "metadata": {
        "colab": {
          "base_uri": "https://localhost:8080/"
        },
        "id": "sGC4BzbE0csj",
        "outputId": "5c25ca7f-29e4-4082-a6d8-5f04512c1576"
      },
      "source": [
        "print('target:\\n{}'.format(iris_dataset['target']))"
      ],
      "execution_count": null,
      "outputs": [
        {
          "output_type": "stream",
          "text": [
            "target:\n",
            "[0 0 0 0 0 0 0 0 0 0 0 0 0 0 0 0 0 0 0 0 0 0 0 0 0 0 0 0 0 0 0 0 0 0 0 0 0\n",
            " 0 0 0 0 0 0 0 0 0 0 0 0 0 1 1 1 1 1 1 1 1 1 1 1 1 1 1 1 1 1 1 1 1 1 1 1 1\n",
            " 1 1 1 1 1 1 1 1 1 1 1 1 1 1 1 1 1 1 1 1 1 1 1 1 1 1 2 2 2 2 2 2 2 2 2 2 2\n",
            " 2 2 2 2 2 2 2 2 2 2 2 2 2 2 2 2 2 2 2 2 2 2 2 2 2 2 2 2 2 2 2 2 2 2 2 2 2\n",
            " 2 2]\n"
          ],
          "name": "stdout"
        }
      ]
    },
    {
      "cell_type": "markdown",
      "metadata": {
        "id": "6fnF5m5fe-Bz"
      },
      "source": [
        "# Measuring Sucess: Training and Testing Data:"
      ]
    },
    {
      "cell_type": "markdown",
      "metadata": {
        "id": "CPicbZHpfG_P"
      },
      "source": [
        "Here we split the data we have collected into two parts, one for building our ml model, and is called the training set or training data. The rest of the data will be used to access how well the model works, that is called the test data, test set or hold-out set:"
      ]
    },
    {
      "cell_type": "code",
      "metadata": {
        "id": "Zi3iiERt8q4M"
      },
      "source": [
        "from sklearn.model_selection import train_test_split\r\n",
        "X_train, X_test, y_train, y_test=train_test_split(\r\n",
        "    iris_dataset['data'], iris_dataset['target'], random_state=0)"
      ],
      "execution_count": null,
      "outputs": []
    },
    {
      "cell_type": "markdown",
      "metadata": {
        "id": "P_9ORgv6gC21"
      },
      "source": [
        "The output of the train_test_split function is X_train, y_train, X_test, y_test which are all NumPy arrays. X_train contains 75% of the rows of the datset nd X_test contains the remaining 25%:"
      ]
    },
    {
      "cell_type": "code",
      "metadata": {
        "colab": {
          "base_uri": "https://localhost:8080/"
        },
        "id": "RCg_rlUqCLm7",
        "outputId": "74a93518-2917-4b51-86a3-1bef0e9a55ba"
      },
      "source": [
        "print(\"X_train shape{}\".format(X_train.shape))\r\n",
        "print(\"y_train shape{}\".format(y_train.shape))\r\n",
        "print(\"X_test shape{}\".format(X_test.shape))\r\n",
        "print(\"y_train shape{}\".format(y_test.shape))"
      ],
      "execution_count": null,
      "outputs": [
        {
          "output_type": "stream",
          "text": [
            "X_train shape(112, 4)\n",
            "y_train shape(112,)\n",
            "X_test shape(38, 4)\n",
            "y_train shape(38,)\n"
          ],
          "name": "stdout"
        }
      ]
    },
    {
      "cell_type": "markdown",
      "metadata": {
        "id": "QwizzvfKh28t"
      },
      "source": [
        "Here this algorithm is implemented in the KNeighborsClassifier class from the neigbors module:"
      ]
    },
    {
      "cell_type": "code",
      "metadata": {
        "id": "zLVr-ze1TP5Q"
      },
      "source": [
        "from sklearn.neighbors import KNeighborsClassifier\r\n",
        "knn = KNeighborsClassifier(n_neighbors=1)"
      ],
      "execution_count": null,
      "outputs": []
    },
    {
      "cell_type": "markdown",
      "metadata": {
        "id": "iaeUmNigiDyC"
      },
      "source": [
        "To build the model on the training set, we call the fit method:"
      ]
    },
    {
      "cell_type": "code",
      "metadata": {
        "colab": {
          "base_uri": "https://localhost:8080/"
        },
        "id": "pNXKhTZwT-VD",
        "outputId": "2756ac82-f747-4222-dcaa-b6ff77de9aec"
      },
      "source": [
        "knn.fit(X_train,y_train)"
      ],
      "execution_count": null,
      "outputs": [
        {
          "output_type": "execute_result",
          "data": {
            "text/plain": [
              "KNeighborsClassifier(algorithm='auto', leaf_size=30, metric='minkowski',\n",
              "                     metric_params=None, n_jobs=None, n_neighbors=1, p=2,\n",
              "                     weights='uniform')"
            ]
          },
          "metadata": {
            "tags": []
          },
          "execution_count": 16
        }
      ]
    },
    {
      "cell_type": "markdown",
      "metadata": {
        "id": "xPTf8qF4jVaO"
      },
      "source": [
        "# Making Predictions:"
      ]
    },
    {
      "cell_type": "markdown",
      "metadata": {
        "id": "29hgHq6zisOW"
      },
      "source": [
        "These are the imagined length and width of an iris sepal and petal. We can put this data into NumPy array, by calculating the shape:\r\n",
        "\r\n"
      ]
    },
    {
      "cell_type": "code",
      "metadata": {
        "colab": {
          "base_uri": "https://localhost:8080/"
        },
        "id": "x_0wagabCenM",
        "outputId": "56aac031-e2ee-45fe-baff-c882aea95e8b"
      },
      "source": [
        "X_new=np.array([[5,2.9,1,0.2]])\r\n",
        "print(\"X_new.shape: {}\".format(X_new.shape))"
      ],
      "execution_count": null,
      "outputs": [
        {
          "output_type": "stream",
          "text": [
            "X_new.shape: (1, 4)\n"
          ],
          "name": "stdout"
        }
      ]
    },
    {
      "cell_type": "markdown",
      "metadata": {
        "id": "l25u00EWjrhk"
      },
      "source": [
        "To make the prediction we call the predict method of knn object:"
      ]
    },
    {
      "cell_type": "code",
      "metadata": {
        "colab": {
          "base_uri": "https://localhost:8080/"
        },
        "id": "9k41cI0PM1Zd",
        "outputId": "6c728359-5d7a-4f52-c5d6-4599e945d92d"
      },
      "source": [
        "prediction=knn.predict(X_new)\r\n",
        "print(\"prediction: {}\".format(prediction))\r\n",
        "print(\"predicted target name: {}\".format(\r\n",
        "    iris_dataset['target_names'][prediction]))"
      ],
      "execution_count": null,
      "outputs": [
        {
          "output_type": "stream",
          "text": [
            "prediction: [0]\n",
            "predicted target name: ['setosa']\n"
          ],
          "name": "stdout"
        }
      ]
    },
    {
      "cell_type": "markdown",
      "metadata": {
        "id": "YgiGRl0ikTxl"
      },
      "source": [
        "#Evaluating the Model:\r\n",
        "We can make prediction for each iris in the test data and compare it against the the known species label. We can measure how well the model works by computing the accuracy:"
      ]
    },
    {
      "cell_type": "code",
      "metadata": {
        "colab": {
          "base_uri": "https://localhost:8080/"
        },
        "id": "vB1IqbhsXD0W",
        "outputId": "bc5f1bf1-499d-4983-92e0-7acb27c04228"
      },
      "source": [
        " y_pred=knn.predict(X_test)\r\n",
        " print(\"Test set predictions:\\n {}\".format(y_pred))"
      ],
      "execution_count": null,
      "outputs": [
        {
          "output_type": "stream",
          "text": [
            "Test set predictions:\n",
            " [2 1 0 2 0 2 0 1 1 1 2 1 1 1 1 0 1 1 0 0 2 1 0 0 2 0 0 1 1 0 2 1 0 2 2 1 0\n",
            " 2]\n"
          ],
          "name": "stdout"
        }
      ]
    },
    {
      "cell_type": "code",
      "metadata": {
        "colab": {
          "base_uri": "https://localhost:8080/"
        },
        "id": "QoPa7N2xX6fz",
        "outputId": "7a087f18-399d-4da9-9ebb-a06b708fad78"
      },
      "source": [
        "print(\"Test set score : {}\".format(np.mean(y_pred==y_test)))"
      ],
      "execution_count": null,
      "outputs": [
        {
          "output_type": "stream",
          "text": [
            "Test set score : 0.9736842105263158\n"
          ],
          "name": "stdout"
        }
      ]
    }
  ]
}